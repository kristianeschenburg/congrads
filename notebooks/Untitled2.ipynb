{
 "cells": [
  {
   "cell_type": "code",
   "execution_count": 1,
   "metadata": {},
   "outputs": [],
   "source": [
    "import numpy as np\n",
    "import niio\n",
    "import fragmenter as frag\n",
    "\n",
    "from sklearn.preprocessing import Normalizer\n",
    "\n",
    "import pandas as pd\n",
    "\n",
    "import os"
   ]
  },
  {
   "cell_type": "code",
   "execution_count": 30,
   "metadata": {},
   "outputs": [],
   "source": [
    "subject_file = '/mnt/parcellator/parcellation/parcellearning/Data/SubjectList.txt'\n",
    "with open(subject_file, 'r') as insubj:\n",
    "    subjects = insubj.readlines()\n",
    "subjects = [x.strip() for x in subjects]\n",
    "\n",
    "region_file = '/mnt/parcellator/parcellation/parcellearning/Data/Labels/Desikan/regions.txt'\n",
    "with open(region_file, 'r') as inreg:\n",
    "    regions = inreg.readlines()\n",
    "regions = [x.strip() for x in regions]"
   ]
  },
  {
   "cell_type": "code",
   "execution_count": null,
   "metadata": {},
   "outputs": [],
   "source": [
    "dDir = '/mnt/parcellator/parcellation/parcellearning/Data/'\n",
    "N = Normalizer()\n",
    "for subj in subjects:\n",
    "    \n",
    "    lab_file = '{:}Labels/Desikan/{:}.L.aparc.32k_fs_LR.label.gii'.format(dDir, subj)\n",
    "    surface_file = '{:}Surfaces/{:}.L.midthickness.32k_fs_LR.acpc_dc.surf.gii'.format(dDir, subj)\n",
    "    \n",
    "    if os.path.exists(lab_file):\n",
    "        R = frag.RegionExtractor.Extractor(lab_file)\n",
    "        L = niio.loaded.load(lab_file)\n",
    "        region_map = R.map_regions()\n",
    "    \n",
    "        for reg in regions:\n",
    "\n",
    "            conn_file = '{:}Connectopy/Regional/{:}/{:}/{:}.L.{:}.2.brain.Evecs.func.gii'.format(dDir, subj, reg, subj, reg)\n",
    "            vect_file = '{:}Connectopy/Regional/{:}/{:}/{:}.L.{:}.2.brain.GradientVectors.func.gii'.format(dDir, subj, reg, subj, reg)\n",
    "            print(vect_file)\n",
    "            reg_inds = region_map[reg]\n",
    "\n",
    "            if os.path.exists(conn_file) and os.path.exists(surface_file) and os.path.exists(vect_file):\n",
    "\n",
    "                vect = niio.loaded.load(vect_file)\n",
    "                conn = niio.loaded.load(conn_file)\n",
    "                conn_inds = np.where(conn[:, 0] != 0)[0]\n",
    "                \n",
    "                overlap = np.asarray(list(set(conn_inds).intersection(set(reg_inds))))\n",
    "                \n",
    "                vects = vect[overlap, :]\n",
    "                \n",
    "                for i in np.arange(5):\n",
    "                    \n",
    "                    v = vects[:, (i*3):((i*3)+3)]\n",
    "                    normed = N.fit_transform(v)\n",
    "                    \n",
    "                    \n",
    "                    data = {'x': normed[:, 0],\n",
    "                            'y': normed[:, 1],\n",
    "                            'z': normed[:, 2]}\n",
    "                    df = pd.DataFrame(data)\n",
    "                    oFile = '{:}Connectopy/Regional/{:}/{:}/{:}.L.{:}.2.brain.E{:}.GradientVector.csv'.format(dDir, subj, reg, subj, reg, (i+1))\n",
    "                    df.to_csv(oFile, header=True, index=False)"
   ]
  },
  {
   "cell_type": "code",
   "execution_count": 2,
   "metadata": {},
   "outputs": [],
   "source": [
    "[V, F] = niio.loaded.loadSurf('/mnt/parcellator/parcellation/parcellearning/Data/Surfaces/285345.L.midthickness.32k_fs_LR.acpc_dc.surf.gii')"
   ]
  },
  {
   "cell_type": "code",
   "execution_count": 67,
   "metadata": {},
   "outputs": [],
   "source": [
    "S = adj.SurfaceAdjacency(vertices=V, faces=F)\n",
    "S.generate()"
   ]
  },
  {
   "cell_type": "code",
   "execution_count": 68,
   "metadata": {},
   "outputs": [],
   "source": [
    "from surface_utilities import adjacency as adj\n",
    "import networkx as nx"
   ]
  },
  {
   "cell_type": "code",
   "execution_count": 69,
   "metadata": {},
   "outputs": [],
   "source": [
    "G = nx.from_dict_of_lists(S.adj)\n",
    "la = nx.linalg.laplacian_matrix(G)"
   ]
  },
  {
   "cell_type": "code",
   "execution_count": 80,
   "metadata": {},
   "outputs": [],
   "source": [
    "la = la.astype('float32')"
   ]
  },
  {
   "cell_type": "code",
   "execution_count": 81,
   "metadata": {},
   "outputs": [],
   "source": [
    "[w, v] = scipy.sparse.linalg.eigsh(la, k=6)"
   ]
  },
  {
   "cell_type": "code",
   "execution_count": 59,
   "metadata": {},
   "outputs": [],
   "source": [
    "V1 = np.row_stack([V[F[:, 0],:],\n",
    "                         V[F[:, 0],:],\n",
    "                         V[F[:, 1],:],\n",
    "                         V[F[:, 1],:],\n",
    "                         V[F[:, 2],:],\n",
    "                         V[F[:, 2],:]])\n",
    "\n",
    "V2 = np.row_stack([V[F[:, 1],:],\n",
    "                         V[F[:, 2],:],\n",
    "                         V[F[:, 0],:],\n",
    "                         V[F[:, 2],:],\n",
    "                         V[F[:, 0],:],\n",
    "                         V[F[:, 1],:]])\n",
    "\n",
    "F1 = np.concatenate([F[:, 0], F[:, 0], F[:, 1], F[:, 1], F[:, 2], F[:, 2]])\n",
    "F2 = np.concatenate([F[:, 1], F[:, 2], F[:, 0], F[:, 2], F[:, 0], F[:, 1]])\n",
    "stackF = np.column_stack([F1, F2])\n",
    "\n",
    "D = V1-V2\n",
    "sq = D**2\n",
    "s = np.sqrt(sq.sum(1))"
   ]
  },
  {
   "cell_type": "code",
   "execution_count": 62,
   "metadata": {},
   "outputs": [],
   "source": [
    "dists = np.zeros((32492, 32492))\n",
    "dists[stackF[:, 0], stackF[:, 1]] = s"
   ]
  },
  {
   "cell_type": "code",
   "execution_count": 63,
   "metadata": {},
   "outputs": [],
   "source": [
    "D = dists.sum(1)"
   ]
  },
  {
   "cell_type": "code",
   "execution_count": 88,
   "metadata": {},
   "outputs": [
    {
     "data": {
      "image/png": "[encoded data removed]",
      "text/plain": [
       "<Figure size 432x288 with 1 Axes>"
      ]
     },
     "metadata": {},
     "output_type": "display_data"
    }
   ],
   "source": [
    "plt.hist(D, 100);"
   ]
  },
  {
   "cell_type": "code",
   "execution_count": 19,
   "metadata": {},
   "outputs": [],
   "source": [
    "sps_data = np.concatenate([-1*s, D])"
   ]
  },
  {
   "cell_type": "code",
   "execution_count": 21,
   "metadata": {},
   "outputs": [],
   "source": [
    "Fstack = np.row_stack([stackF, np.column_stack([np.arange(32492), np.arange(32492)])])"
   ]
  },
  {
   "cell_type": "code",
   "execution_count": 23,
   "metadata": {},
   "outputs": [],
   "source": [
    "import scipy"
   ]
  },
  {
   "cell_type": "code",
   "execution_count": 24,
   "metadata": {},
   "outputs": [],
   "source": [
    "from scipy import sparse"
   ]
  },
  {
   "cell_type": "code",
   "execution_count": 83,
   "metadata": {},
   "outputs": [],
   "source": [
    "L = sparse.csr_matrix((sps_data, (Fstack[:, 0], Fstack[:, 1])), shape=(32492, 32492))"
   ]
  },
  {
   "cell_type": "code",
   "execution_count": 89,
   "metadata": {},
   "outputs": [
    {
     "data": {
      "image/png": "[encoded data removed]",
      "text/plain": [
       "<Figure size 432x288 with 1 Axes>"
      ]
     },
     "metadata": {},
     "output_type": "display_data"
    }
   ],
   "source": [
    "plt.hist(sps_data, 500, density=True);"
   ]
  },
  {
   "cell_type": "code",
   "execution_count": 84,
   "metadata": {},
   "outputs": [],
   "source": [
    "[w, v] = sparse.linalg.eigsh(L, k=6)"
   ]
  },
  {
   "cell_type": "code",
   "execution_count": 85,
   "metadata": {},
   "outputs": [],
   "source": [
    "%matplotlib inline\n",
    "import matplotlib.pyplot as plt"
   ]
  },
  {
   "cell_type": "code",
   "execution_count": 86,
   "metadata": {},
   "outputs": [],
   "source": [
    "niio.write.save(v, '/mnt/home/keschenb/Desktop/Test.Eigenvectors.func.gii', 'CortexLeft')"
   ]
  },
  {
   "cell_type": "code",
   "execution_count": null,
   "metadata": {},
   "outputs": [],
   "source": []
  }
 ],
 "metadata": {
  "kernelspec": {
   "display_name": "Python 3",
   "language": "python",
   "name": "python3"
  },
  "language_info": {
   "codemirror_mode": {
    "name": "ipython",
    "version": 3
   },
   "file_extension": ".py",
   "mimetype": "text/x-python",
   "name": "python",
   "nbconvert_exporter": "python",
   "pygments_lexer": "ipython3",
   "version": "3.6.8"
  }
 },
 "nbformat": 4,
 "nbformat_minor": 2
}
